{
 "cells": [
  {
   "cell_type": "code",
   "execution_count": 3,
   "metadata": {},
   "outputs": [],
   "source": [
    "import pandas as pd"
   ]
  },
  {
   "cell_type": "code",
   "execution_count": 13,
   "metadata": {},
   "outputs": [
    {
     "name": "stdout",
     "output_type": "stream",
     "text": [
      "<class 'pandas.core.frame.DataFrame'>\n",
      "RangeIndex: 11536 entries, 0 to 11535\n",
      "Data columns (total 35 columns):\n",
      " #   Column                   Non-Null Count  Dtype   \n",
      "---  ------                   --------------  -----   \n",
      " 0   REGION                   11536 non-null  category\n",
      " 1   DEPTO                    11536 non-null  category\n",
      " 2   AREA                     11536 non-null  category\n",
      " 3   UPM                      11536 non-null  float64 \n",
      " 4   NUMHOG                   11536 non-null  float64 \n",
      " 5   FACTOR                   11536 non-null  float64 \n",
      " 6   FACTOR3                  11536 non-null  float64 \n",
      " 7   THOGAR                   11536 non-null  float64 \n",
      " 8   fact_geo                 11536 non-null  float64 \n",
      " 9   PPB04                    11536 non-null  float64 \n",
      " 10  PPD04                    11536 non-null  category\n",
      " 11  DIA_ENC                  11536 non-null  float64 \n",
      " 12  MES_ENC                  11535 non-null  category\n",
      " 13  A_ENC                    11535 non-null  float64 \n",
      " 14  comen3                   11536 non-null  float64 \n",
      " 15  casas3                   11536 non-null  float64 \n",
      " 16  aguas3                   11536 non-null  float64 \n",
      " 17  educa3                   11536 non-null  float64 \n",
      " 18  salud3                   11536 non-null  float64 \n",
      " 19  equip3                   11536 non-null  float64 \n",
      " 20  buses3                   11536 non-null  float64 \n",
      " 21  gasto3                   11536 non-null  float64 \n",
      " 22  ayuda3                   11536 non-null  float64 \n",
      " 23  agreg3                   11536 non-null  float64 \n",
      " 24  Infla06_12_alimentos     11536 non-null  float64 \n",
      " 25  Infla06_12_no_alimentos  11536 non-null  float64 \n",
      " 26  li_extre                 11536 non-null  float64 \n",
      " 27  li_gener                 11536 non-null  float64 \n",
      " 28  pobreza                  11536 non-null  category\n",
      " 29  pob_ext                  11536 non-null  category\n",
      " 30  pob_gen                  11536 non-null  category\n",
      " 31  pob_no                   11536 non-null  float64 \n",
      " 32  tiles50                  11536 non-null  float64 \n",
      " 33  Decil                    11536 non-null  float64 \n",
      " 34  Quintil                  11536 non-null  float64 \n",
      "dtypes: category(8), float64(27)\n",
      "memory usage: 2.5 MB\n"
     ]
    }
   ],
   "source": [
    "df = pd.read_spss('data/AGREGA DE CONSUMO.sav')\n",
    "df.info()"
   ]
  },
  {
   "cell_type": "code",
   "execution_count": null,
   "metadata": {},
   "outputs": [],
   "source": []
  },
  {
   "cell_type": "code",
   "execution_count": null,
   "metadata": {},
   "outputs": [],
   "source": []
  }
 ],
 "metadata": {
  "kernelspec": {
   "display_name": "Python 3.11.0 ('.venv': venv)",
   "language": "python",
   "name": "python3"
  },
  "language_info": {
   "codemirror_mode": {
    "name": "ipython",
    "version": 3
   },
   "file_extension": ".py",
   "mimetype": "text/x-python",
   "name": "python",
   "nbconvert_exporter": "python",
   "pygments_lexer": "ipython3",
   "version": "3.11.0"
  },
  "orig_nbformat": 4,
  "vscode": {
   "interpreter": {
    "hash": "ad06394bbc4020137a72dd3c8fa3dc7a652b2cec8b284ca7c146ba52d132bd4b"
   }
  }
 },
 "nbformat": 4,
 "nbformat_minor": 2
}
