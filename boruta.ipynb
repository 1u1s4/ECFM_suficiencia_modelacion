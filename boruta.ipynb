{
 "cells": [
  {
   "cell_type": "markdown",
   "metadata": {},
   "source": [
    "# Paquetes a utilizar"
   ]
  },
  {
   "cell_type": "code",
   "execution_count": null,
   "metadata": {},
   "outputs": [],
   "source": [
    "import sklearn as skl\n",
    "import pandas as pd\n",
    "import numpy as np\n",
    "import xgboost as xgb\n",
    "from boruta import BorutaPy"
   ]
  },
  {
   "cell_type": "markdown",
   "metadata": {},
   "source": [
    "# Base de datos"
   ]
  },
  {
   "cell_type": "code",
   "execution_count": null,
   "metadata": {},
   "outputs": [],
   "source": [
    "df = pd.read_csv(\"data/wisconsin_breast_cancer_dataset.csv\")\n",
    "df = df.dropna()\n",
    "df = df.rename(columns={'diagnosis':'Label'})\n",
    "df['Label'].value_counts()"
   ]
  },
  {
   "cell_type": "code",
   "execution_count": null,
   "metadata": {},
   "outputs": [],
   "source": [
    "df.describe().T"
   ]
  },
  {
   "cell_type": "code",
   "execution_count": null,
   "metadata": {},
   "outputs": [],
   "source": [
    "df.dtypes"
   ]
  },
  {
   "cell_type": "markdown",
   "metadata": {},
   "source": [
    "# Variable dependiente que debe predecirse y codificación de datos categóricos"
   ]
  },
  {
   "cell_type": "code",
   "execution_count": null,
   "metadata": {},
   "outputs": [],
   "source": [
    "y = df[\"Label\"].values\n",
    "Y = skl.preprocessing.LabelEncoder().fit_transform(y)"
   ]
  },
  {
   "cell_type": "markdown",
   "metadata": {},
   "source": [
    "# Definir x, normalizar valores y definir variables independientes"
   ]
  },
  {
   "cell_type": "code",
   "execution_count": null,
   "metadata": {},
   "outputs": [],
   "source": [
    "X = df.drop(labels = [\"Label\", \"id\"], axis=1) \n",
    "nombres_de_funciones = np.array(X.columns)\n",
    "scaler = skl.preprocessing.StandardScaler()\n",
    "scaler.fit(X)\n",
    "X = scaler.transform(X)"
   ]
  },
  {
   "cell_type": "markdown",
   "metadata": {},
   "source": [
    "# Train and test para verificar la precisión después de ajustar el modelo"
   ]
  },
  {
   "cell_type": "code",
   "execution_count": null,
   "metadata": {},
   "outputs": [],
   "source": [
    "X_train, X_test, y_train, y_test = skl.model_selection.train_test_split(X, Y, test_size=0.25, random_state=42)"
   ]
  },
  {
   "cell_type": "markdown",
   "metadata": {},
   "source": [
    "# XGBOOST para ser utilizado por Boruta"
   ]
  },
  {
   "cell_type": "code",
   "execution_count": null,
   "metadata": {},
   "outputs": [],
   "source": [
    "modelo = xgb.XGBClassifier()"
   ]
  },
  {
   "cell_type": "markdown",
   "metadata": {},
   "source": [
    "- Crear funciones de sombra: funciones aleatorias y valores aleatorios en columnas\n",
    "- Entrenar Random Forest / XGBoost y calcular la importancia de la característica a través de la disminución media de la impureza\n",
    "- Comprobar si las características reales tienen mayor importancia en comparación con las características de sombra\n",
    "- Repetir esto para cada iteración\n",
    "- Si la función original funcionó mejor, marcarla como importante."
   ]
  },
  {
   "cell_type": "code",
   "execution_count": null,
   "metadata": {},
   "outputs": [],
   "source": [
    "# Especificar cómo se determinan las características relevantes utilizando el algoritmo Boruta\n",
    "selector = BorutaPy(modelo, n_estimators='auto', verbose=2, random_state=1)\n",
    "# Hallar todas las características importantes\n",
    "selector.fit(X_train, y_train)\n",
    "# Aplicar el método transform() en el conjunto de datos X para limitarlo a solo las características seleccionadas\n",
    "X_filtered = selector.transform(X_train)  # Utilizar técnicas de selección de características y obtener el conjunto de datos modificado"
   ]
  },
  {
   "cell_type": "markdown",
   "metadata": {},
   "source": [
    "# zip nombres de características, rangos y decisiones"
   ]
  },
  {
   "cell_type": "code",
   "execution_count": null,
   "metadata": {},
   "outputs": [],
   "source": [
    "feature_ranks = list(zip(nombres_de_funciones, \n",
    "                         selector.ranking_, \n",
    "                         selector.support_))\n"
   ]
  },
  {
   "cell_type": "markdown",
   "metadata": {},
   "source": [
    "# Resultados"
   ]
  },
  {
   "cell_type": "code",
   "execution_count": null,
   "metadata": {},
   "outputs": [],
   "source": [
    "for feat in feature_ranks:\n",
    "    print('Feature: {:<30} Rank: {},  Keep: {}'.format(feat[0], feat[1], feat[2]))"
   ]
  },
  {
   "cell_type": "code",
   "execution_count": null,
   "metadata": {},
   "outputs": [],
   "source": [
    "# Utilizando un conjunto específico de características, ajustar un modelo XGBoost en los datos de entrenamiento\n",
    "xgb_model = xgb.XGBClassifier()\n",
    "xgb_model.fit(X_filtered, y_train)\n",
    "# Emplear el modelo previamente entrenado para hacer predicciones con el conjunto de datos de prueba\n",
    "# Antes de hacer las predicciones, aplicar las mismas técnicas de selección de características en los datos de prueba para asegurarse de que solo se estén utilizando las características relevantes\n",
    "X_test_filtered = selector.transform(X_test)\n",
    "prediction_xgb = xgb_model.predict(X_test_filtered)"
   ]
  },
  {
   "cell_type": "markdown",
   "metadata": {},
   "source": [
    "## Precisión"
   ]
  },
  {
   "cell_type": "code",
   "execution_count": null,
   "metadata": {},
   "outputs": [],
   "source": [
    "skl.metrics.accuracy_score(y_test, prediction_xgb)"
   ]
  }
 ],
 "metadata": {
  "kernelspec": {
   "display_name": "Python 3.11.0 ('.venv': venv)",
   "language": "python",
   "name": "python3"
  },
  "language_info": {
   "codemirror_mode": {
    "name": "ipython",
    "version": 3
   },
   "file_extension": ".py",
   "mimetype": "text/x-python",
   "name": "python",
   "nbconvert_exporter": "python",
   "pygments_lexer": "ipython3",
   "version": "3.11.0"
  },
  "orig_nbformat": 4,
  "vscode": {
   "interpreter": {
    "hash": "ad06394bbc4020137a72dd3c8fa3dc7a652b2cec8b284ca7c146ba52d132bd4b"
   }
  }
 },
 "nbformat": 4,
 "nbformat_minor": 2
}
